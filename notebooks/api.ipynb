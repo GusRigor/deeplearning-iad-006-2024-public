{
 "cells": [
  {
   "cell_type": "code",
   "execution_count": 1,
   "metadata": {},
   "outputs": [],
   "source": [
    "import requests\n",
    "import json"
   ]
  },
  {
   "cell_type": "code",
   "execution_count": 2,
   "metadata": {},
   "outputs": [],
   "source": [
    "url = 'http://localhost:8000/predict'"
   ]
  },
  {
   "cell_type": "code",
   "execution_count": 11,
   "metadata": {},
   "outputs": [],
   "source": [
    "def fazer_inferencia(dados_entrada):\n",
    "    dados_json = json.dumps({'input': dados_entrada.tolist()})\n",
    "    \n",
    "    resposta = requests.post(url, data=dados_json, headers={'Content-Type': 'application/json'})\n",
    "\n",
    "    if resposta.status_code == 200:\n",
    "        return resposta.json()\n",
    "    else:\n",
    "        return {'error': 'Solicitação falhou'}"
   ]
  },
  {
   "cell_type": "code",
   "execution_count": 4,
   "metadata": {},
   "outputs": [
    {
     "name": "stdout",
     "output_type": "stream",
     "text": [
      "[INFO] Imagem aleatória do MNIST com label '1':\n"
     ]
    }
   ],
   "source": [
    "from sklearn.datasets import load_digits\n",
    "import numpy as np\n",
    "\n",
    "dataset = load_digits()\n",
    "(data, labels) = (dataset.data, dataset.target)\n",
    "\n",
    "np.random.seed(42)\n",
    "randomIndex = np.random.randint(0, data.shape[0])\n",
    "print(\"[INFO] Imagem aleatória do MNIST com label '{:.0f}':\".format(labels[randomIndex]))"
   ]
  },
  {
   "cell_type": "code",
   "execution_count": 18,
   "metadata": {},
   "outputs": [
    {
     "data": {
      "text/plain": [
       "{'prediction': [1]}"
      ]
     },
     "execution_count": 18,
     "metadata": {},
     "output_type": "execute_result"
    }
   ],
   "source": [
    "fazer_inferencia(data[randomIndex])"
   ]
  }
 ],
 "metadata": {
  "kernelspec": {
   "display_name": "Python 3",
   "language": "python",
   "name": "python3"
  },
  "language_info": {
   "codemirror_mode": {
    "name": "ipython",
    "version": 3
   },
   "file_extension": ".py",
   "mimetype": "text/x-python",
   "name": "python",
   "nbconvert_exporter": "python",
   "pygments_lexer": "ipython3",
   "version": "3.10.13"
  }
 },
 "nbformat": 4,
 "nbformat_minor": 2
}
